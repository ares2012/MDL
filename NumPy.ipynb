{
  "nbformat": 4,
  "nbformat_minor": 0,
  "metadata": {
    "colab": {
      "provenance": []
    },
    "kernelspec": {
      "name": "python3",
      "display_name": "Python 3"
    },
    "language_info": {
      "name": "python"
    }
  },
  "cells": [
    {
      "cell_type": "markdown",
      "source": [
        "<a target=\"_blank\" href=\"https://colab.research.google.com/github/ares2012/MDL/blob/master/NumPy.ipynb\">\n",
        "  <img src=\"https://colab.research.google.com/assets/colab-badge.svg\" alt=\"Open In Colab\"/>\n",
        "</a>"
      ],
      "metadata": {
        "id": "v67O-Un0eO8K"
      }
    },
    {
      "cell_type": "code",
      "source": [
        "from google.colab import drive\n",
        "drive.mount('/content/drive')"
      ],
      "metadata": {
        "id": "6sxvfkzdRXln"
      },
      "execution_count": null,
      "outputs": []
    },
    {
      "cell_type": "code",
      "source": [
        "# ● 예제1\n",
        "# 넘파이 & 파이썬 비교: 파이썬 리스트의 단점\n",
        "# 여러 가지 다른 타입을 담을 수 있도록 만들어졌기 때문에 상대적으로 느릴 수 밖에 없다.\n",
        "# 넘파이는 이런 단점을 극복하기 위해서 다른 타입은 담을 수 없고, 동일한 타입에 대해서만 저장하여 속도를 빠르게 개선\n",
        "# 즉, 숫자면 숫자로, 문자면 문자로 하나의 동일한 타입으로 통일\n",
        "# 속도 뿐만 아니라 메모리 사용 등에 있어서도 매우 효율적\n",
        "# 배열간의 산술 연산 등을 수행하는 게 가능\n",
        "# 따라서, 수치 계산에 매우 빠르고 대용량 데이터분석, 다차원배열 연산 가능(ndarray, N-dimentsional)\n",
        "\n",
        "import numpy as np\n",
        "\n",
        "a = [ 1, 2, 3, 4, 5 ]\n",
        "b = [ 6, 7, 8, 9, 10 ]\n",
        "\n",
        "print( type(a) ) # <class 'list'>\n",
        "print( type(b) ) # <class 'list'>\n",
        "print( a + b )\n",
        "\n",
        "a1 = np.array( a )\n",
        "b1 = np.array( b )\n",
        "print( type(a1) ) # <class 'numpy.ndarray'>\n",
        "print( type(b1) )\n",
        "print( a1 + b1 )\n",
        "print( a1 - b1 )\n",
        "print( a1 * b1 )\n",
        "print( a1 / b1 )\n",
        "\n",
        "# 메서드 사용\n",
        "print( np.add(a1, b1) )\n",
        "print( np.subtract(a1, b1) )\n",
        "print( np.multiply(a1, b1) )"
      ],
      "metadata": {
        "id": "SVoObhN9lku-",
        "outputId": "9d125493-a9b2-4dfd-9c63-44b8f408652c",
        "colab": {
          "base_uri": "https://localhost:8080/"
        }
      },
      "execution_count": 1,
      "outputs": [
        {
          "output_type": "stream",
          "name": "stdout",
          "text": [
            "<class 'list'>\n",
            "<class 'list'>\n",
            "[1, 2, 3, 4, 5, 6, 7, 8, 9, 10]\n",
            "<class 'numpy.ndarray'>\n",
            "<class 'numpy.ndarray'>\n",
            "[ 7  9 11 13 15]\n",
            "[-5 -5 -5 -5 -5]\n",
            "[ 6 14 24 36 50]\n",
            "[0.16666667 0.28571429 0.375      0.44444444 0.5       ]\n",
            "[ 7  9 11 13 15]\n",
            "[-5 -5 -5 -5 -5]\n",
            "[ 6 14 24 36 50]\n"
          ]
        }
      ]
    },
    {
      "cell_type": "code",
      "source": [
        "# ● 예제2\n",
        "# 넘파이 데이터 타입\n",
        "'''\n",
        "i - integer (정수)\n",
        "b - boolean (참거짓)\n",
        "u - unsigned integer (부호없는 정수)\n",
        "f - float (소수)\n",
        "c - complex (복소수)\n",
        "O - object (객체)\n",
        "S - string (문자열)\n",
        "'''\n",
        "\n",
        "import numpy as np\n",
        "ar = np.array( [1, 2, 3, 4, 5] )\n",
        "print( type(ar[0]) ) # <class 'numpy.int64'>\n",
        "print( type(ar[0]) )\n",
        "print( ar.size )\n",
        "print( ar[ar.size-1] )\n",
        "print( ar[len(ar)-1] )"
      ],
      "metadata": {
        "id": "Zg9zaThVlwm2",
        "outputId": "40ccd769-8fb3-4fe5-d37d-fa9bef62a5bb",
        "colab": {
          "base_uri": "https://localhost:8080/"
        }
      },
      "execution_count": 2,
      "outputs": [
        {
          "output_type": "stream",
          "name": "stdout",
          "text": [
            "<class 'numpy.int64'>\n",
            "<class 'numpy.int64'>\n",
            "5\n",
            "5\n",
            "5\n"
          ]
        }
      ]
    },
    {
      "cell_type": "code",
      "source": [
        "# ● 예제3\n",
        "import numpy as np\n",
        "\n",
        "# array\n",
        "a = np.array( [1, 2, 3, 4, 5] )\n",
        "print( type(a) )\n",
        "print( a )\n",
        "print( type(a[0]) )\n",
        "\n",
        "print( \"---------------------------------------- 1\" )\n",
        "# [1] : 메서드인지? 아닌지? 헷갈려요..ㅠ.ㅠ\n",
        "\n",
        "print( \"---------------------------------------- 2\" )\n",
        "# [2] : dtype 사용해서 배열 요소의 데이터타입 확인하기\n",
        "b = np.array( [1, 2, 3, 4, 5] )\n",
        "print( b.dtype )\n",
        "print( type(b) )\n",
        "\n",
        "print( \"---------------------------------------- 3\" )\n",
        "# [3] : 배열 요소가 정수형인데 하나가 실수형으로 되어 있으면 이때 dtype 출력 결과는?\n",
        "c = np.array( [1, 2, 3., 4, 5] )\n",
        "print( c.dtype )\n",
        "print( type(c) )\n",
        "\n",
        "print( \"---------------------------------------- 4\" )\n",
        "# [4] : dtype 사용해서 배열 요소 타입 변경하기1\n",
        "d = np.array( [1, 2, 3, 4, 5], dtype=float )\n",
        "print( d.dtype )\n",
        "print( d )\n",
        "\n",
        "print( \"---------------------------------------- 5\" )\n",
        "# [5] : dtype 사용해서 배열 요소 타입 변경하기2\n",
        "e = np.array( [1, 2, 3, 4, 5], dtype='float64' )\n",
        "print( e.dtype )\n",
        "print( e )\n",
        "\n",
        "print( \"---------------------------------------- 6\" )\n",
        "#  numpy.str_ 배열 요소 데이터타입을 numpy.int64 데이터타입으로 변경하시오?\n",
        "b = [ '100', '200', '300' ]\n",
        "print( type(b) )\n",
        "\n",
        "b1 = np.array( b )\n",
        "print( type(b1) )\n",
        "print( type(b1[0]) )\n",
        "\n",
        "b2 = np.array( b, dtype=int )\n",
        "print( type(b2) )\n",
        "print( type(b2[0]) )"
      ],
      "metadata": {
        "id": "vGBzTGaClzcW",
        "outputId": "789dfced-2823-46f2-d01d-8eaae450147e",
        "colab": {
          "base_uri": "https://localhost:8080/"
        }
      },
      "execution_count": 3,
      "outputs": [
        {
          "output_type": "stream",
          "name": "stdout",
          "text": [
            "<class 'numpy.ndarray'>\n",
            "[1 2 3 4 5]\n",
            "<class 'numpy.int64'>\n",
            "---------------------------------------- 1\n",
            "---------------------------------------- 2\n",
            "int64\n",
            "<class 'numpy.ndarray'>\n",
            "---------------------------------------- 3\n",
            "float64\n",
            "<class 'numpy.ndarray'>\n",
            "---------------------------------------- 4\n",
            "float64\n",
            "[1. 2. 3. 4. 5.]\n",
            "---------------------------------------- 5\n",
            "float64\n",
            "[1. 2. 3. 4. 5.]\n",
            "---------------------------------------- 6\n",
            "<class 'list'>\n",
            "<class 'numpy.ndarray'>\n",
            "<class 'numpy.str_'>\n",
            "<class 'numpy.ndarray'>\n",
            "<class 'numpy.int64'>\n"
          ]
        }
      ]
    },
    {
      "cell_type": "code",
      "source": [
        "# ● 예제4\n",
        "# 배열과 숫자 연산 ( 배열간의 연산도 가능 )\n",
        "import numpy as np\n",
        "\n",
        "data5 = [ 1, 2, 3, 4, 5 ]\n",
        "e = 3\n",
        "\n",
        "# 배열 연산\n",
        "# print( data5 + e )\n",
        "\n",
        "# 배열로 변경 후 연산 수행\n",
        "data5_ar = np.array( data5 )\n",
        "\n",
        "print( data5_ar + e )\n",
        "print( data5_ar - e )\n",
        "print( data5_ar * e )\n",
        "print( data5_ar / e )\n",
        "print( data5_ar % e )\n",
        "print( data5_ar // e )"
      ],
      "metadata": {
        "id": "jbwrdhRJl0Bm",
        "outputId": "f1645546-cec0-4763-877e-09a0ad347da2",
        "colab": {
          "base_uri": "https://localhost:8080/"
        }
      },
      "execution_count": 4,
      "outputs": [
        {
          "output_type": "stream",
          "name": "stdout",
          "text": [
            "[4 5 6 7 8]\n",
            "[-2 -1  0  1  2]\n",
            "[ 3  6  9 12 15]\n",
            "[0.33333333 0.66666667 1.         1.33333333 1.66666667]\n",
            "[1 2 0 1 2]\n",
            "[0 0 1 1 1]\n"
          ]
        }
      ]
    },
    {
      "cell_type": "code",
      "source": [
        "# ● 예제5\n",
        "# 다차원 배열 만들기\n",
        "import numpy as np\n",
        "\n",
        "data5 = np.array( [[1, 2, 3], [4, 5, 6], [7, 8, 9]], dtype=float )\n",
        "print( data5 )\n",
        "print( data5.dtype )\n",
        "print( data5[2, 1] )\n",
        "print( type(data5) )\n",
        "print( data5.shape )\n",
        "print( data5.ndim )"
      ],
      "metadata": {
        "id": "mjxCTwYvl1e2",
        "outputId": "8b8f6a02-9e53-499c-f035-05c54589f78d",
        "colab": {
          "base_uri": "https://localhost:8080/"
        }
      },
      "execution_count": 5,
      "outputs": [
        {
          "output_type": "stream",
          "name": "stdout",
          "text": [
            "[[1. 2. 3.]\n",
            " [4. 5. 6.]\n",
            " [7. 8. 9.]]\n",
            "float64\n",
            "8.0\n",
            "<class 'numpy.ndarray'>\n",
            "(3, 3)\n",
            "2\n"
          ]
        }
      ]
    },
    {
      "cell_type": "code",
      "source": [
        "# ● 예제6\n",
        "import numpy as np\n",
        "\n",
        "data6 = [ '1', '2', '3' ]\n",
        "\n",
        "data6_ar = np.array( data6, dtype='i8' )\n",
        "print( data6_ar.dtype )\n",
        "print( data6_ar[data6_ar.size-1] )\n",
        "print( type(data6_ar[data6_ar.size-1]) )\n",
        "\n",
        "# 범위 체크하기 - int64\n",
        "info_int64 = np.iinfo( np.int64 )\n",
        "print( type(info_int64) )\n",
        "print( info_int64 )\n",
        "print( info_int64.max )\n",
        "print( info_int64.min )\n",
        "print( type(info_int64.max) )\n",
        "print( info_int64.bits )"
      ],
      "metadata": {
        "id": "5A7Y5Pf0l2yg",
        "outputId": "c986f3ca-e560-4119-cb60-bede1bb051ff",
        "colab": {
          "base_uri": "https://localhost:8080/"
        }
      },
      "execution_count": 6,
      "outputs": [
        {
          "output_type": "stream",
          "name": "stdout",
          "text": [
            "int64\n",
            "3\n",
            "<class 'numpy.int64'>\n",
            "<class 'numpy.iinfo'>\n",
            "Machine parameters for int64\n",
            "---------------------------------------------------------------\n",
            "min = -9223372036854775808\n",
            "max = 9223372036854775807\n",
            "---------------------------------------------------------------\n",
            "\n",
            "9223372036854775807\n",
            "-9223372036854775808\n",
            "<class 'int'>\n",
            "64\n"
          ]
        }
      ]
    },
    {
      "cell_type": "code",
      "source": [
        "# ● 예제7\n",
        "import numpy as np\n",
        "\n",
        "data7 = np.array( [1, 2, 3] )\n",
        "print( data7 ) # [1 2 3]\n",
        "print( data7.dtype )\n",
        "\n",
        "data7_f = data7.astype( np.float64 )\n",
        "print( data7_f ) # [1. 2. 3.]\n",
        "print( data7_f.dtype )\n",
        "\n",
        "# 데이터타입 변경 시 주의!\n",
        "import numpy as np\n",
        "\n",
        "# [1] 여러 가지 방식\n",
        "d7 = np.array( [1, 2, 3], dtype='f8')\n",
        "print( d7.dtype )\n",
        "print( d7 )\n",
        "\n",
        "# [2] 넘파이 배열로 변경 후 데이터타입 변경 --> astype()\n",
        "d7 = d7.astype( np.int64 )\n",
        "print( d7.dtype )\n",
        "print( d7 )"
      ],
      "metadata": {
        "id": "dZinV6bNl4de",
        "outputId": "820967b5-511e-4920-ae06-2d999ad599be",
        "colab": {
          "base_uri": "https://localhost:8080/"
        }
      },
      "execution_count": 7,
      "outputs": [
        {
          "output_type": "stream",
          "name": "stdout",
          "text": [
            "[1 2 3]\n",
            "int64\n",
            "[1. 2. 3.]\n",
            "float64\n",
            "float64\n",
            "[1. 2. 3.]\n",
            "int64\n",
            "[1 2 3]\n"
          ]
        }
      ]
    },
    {
      "cell_type": "code",
      "source": [
        "# ● 예제8\n",
        "import numpy as np\n",
        "\n",
        "# arange()\n",
        "data8 = np.arange(1, 20, 2)\n",
        "print( data8 )\n",
        "print( type(data8) )\n",
        "print( data8.dtype )\n",
        "print( type(data8[data8.size-1]) )\n",
        "\n",
        "data8_1 = np.arange(1, 10)\n",
        "print( data8_1 )\n",
        "\n",
        "data8_2 = np.arange(10)\n",
        "print( data8_2 )\n",
        "print( \"--------------------------------------------------------\" )\n",
        "\n",
        "# arange() + reshape() : 체이닝\n",
        "dataRe = np.arange(1, 10).reshape(3, 3)\n",
        "print( dataRe )\n",
        "print()\n",
        "\n",
        "dataRe_1 = np.arange(1, 13).reshape(3, 4)\n",
        "print( dataRe_1 )\n",
        "print()\n",
        "\n",
        "dataRe_1 = dataRe_1.reshape(2, 6)\n",
        "print( dataRe_1 )\n",
        "print( \"--------------------------------------------------------\" )\n",
        "\n",
        "# reshape(3, 3, 3)\n",
        "dataRe_2 = np.arange(1, 28).reshape(3, 3, 3)\n",
        "print( dataRe_2 )"
      ],
      "metadata": {
        "id": "M2hpI6vSl6HN",
        "outputId": "b720f7a0-621c-4df3-ffba-717b86cb7019",
        "colab": {
          "base_uri": "https://localhost:8080/"
        }
      },
      "execution_count": 8,
      "outputs": [
        {
          "output_type": "stream",
          "name": "stdout",
          "text": [
            "[ 1  3  5  7  9 11 13 15 17 19]\n",
            "<class 'numpy.ndarray'>\n",
            "int64\n",
            "<class 'numpy.int64'>\n",
            "[1 2 3 4 5 6 7 8 9]\n",
            "[0 1 2 3 4 5 6 7 8 9]\n",
            "--------------------------------------------------------\n",
            "[[1 2 3]\n",
            " [4 5 6]\n",
            " [7 8 9]]\n",
            "\n",
            "[[ 1  2  3  4]\n",
            " [ 5  6  7  8]\n",
            " [ 9 10 11 12]]\n",
            "\n",
            "[[ 1  2  3  4  5  6]\n",
            " [ 7  8  9 10 11 12]]\n",
            "--------------------------------------------------------\n",
            "[[[ 1  2  3]\n",
            "  [ 4  5  6]\n",
            "  [ 7  8  9]]\n",
            "\n",
            " [[10 11 12]\n",
            "  [13 14 15]\n",
            "  [16 17 18]]\n",
            "\n",
            " [[19 20 21]\n",
            "  [22 23 24]\n",
            "  [25 26 27]]]\n"
          ]
        }
      ]
    },
    {
      "cell_type": "code",
      "source": [
        "# ● 예제9\n",
        "import numpy as np\n",
        "\n",
        "# 1차원 배열 생성\n",
        "data9 = np.array( [1, 2, 3, 4, 5] )\n",
        "print( data9.shape )\n",
        "print( data9.ndim )\n",
        "\n",
        "# 인덱스 접근\n",
        "print( data9[4] )\n",
        "print( data9[data9.size-1] )\n",
        "\n",
        "# 요소 수정\n",
        "data9[data9.size-1] = 500\n",
        "print( data9[data9.size-1] ) # 500\n",
        "\n",
        "# 1차원 배열 생성 - arange()\n",
        "print( \"------------------------------------------ arange()\" )\n",
        "data9_1 = np.arange(10)\n",
        "print( data9_1 )\n",
        "print( data9_1.shape )\n",
        "\n",
        "# 1차원 배열 생성 - zero()\n",
        "print( \"------------------------------------------ zeros()\" )\n",
        "data9_2 = np.zeros(7)\n",
        "print( data9_2 )\n",
        "print( data9_2.shape )\n",
        "print( data9_2.dtype )\n",
        "\n",
        "# 1차원 배열 생성 - ones()\n",
        "print( \"------------------------------------------ ones()\" )\n",
        "data9_3 = np.ones(6)\n",
        "print( data9_3 )\n",
        "print( data9_3.shape )\n",
        "print( data9_3.dtype )"
      ],
      "metadata": {
        "id": "7iqzDnHel7_-",
        "outputId": "aca72a3a-b0f5-4fe3-cf62-87b487d68215",
        "colab": {
          "base_uri": "https://localhost:8080/"
        }
      },
      "execution_count": 1,
      "outputs": [
        {
          "output_type": "stream",
          "name": "stdout",
          "text": [
            "(5,)\n",
            "1\n",
            "5\n",
            "5\n",
            "500\n",
            "------------------------------------------ arange()\n",
            "[0 1 2 3 4 5 6 7 8 9]\n",
            "(10,)\n",
            "------------------------------------------ zeros()\n",
            "[0. 0. 0. 0. 0. 0. 0.]\n",
            "(7,)\n",
            "float64\n",
            "------------------------------------------ ones()\n",
            "[1. 1. 1. 1. 1. 1.]\n",
            "(6,)\n",
            "float64\n"
          ]
        }
      ]
    },
    {
      "cell_type": "code",
      "source": [
        "# ● 예제10\n",
        "# 2차원 배열의 형태\n",
        "import numpy as np\n",
        "\n",
        "# 2차원 배열 생성\n",
        "data10 = np.array( [[1, 2, 3], [4, 5, 6], [7, 8, 9]] )\n",
        "print( data10 )\n",
        "print( data10.shape )\n",
        "print( data10.ndim )\n",
        "print( \"data10[0, 0] => \", data10[0, 0] ) # 1\n",
        "print( \"data10[1, 1] => \", data10[1, 1] ) # 5\n",
        "print( \"data10[2, 2] => \", data10[2, 2] ) # 9\n",
        "\n",
        "# 2차원 배열 생성 - arange()\n",
        "print( \"------------------------------------------ arange()\" )\n",
        "data10_1 = np.arange(1, 17).reshape(4, 4)\n",
        "print( data10_1 )\n",
        "print( data10_1.shape )\n",
        "print( data10_1.ndim )\n",
        "\n",
        "# 8x2 모양으로 변경\n",
        "data10_1 = data10_1.reshape(8, 2)\n",
        "print( data10_1 )\n",
        "\n",
        "# zeros() 사용 시 2차원 형태로 배열 만들기\n",
        "print( \"------------------------------------------ zeros()\" )\n",
        "data10_2 = np.zeros((3, 3))\n",
        "print( data10_2 )\n",
        "print( data10_2.shape )\n",
        "print( data10_2.dtype )\n",
        "\n",
        "# ones() 사용 시 2차원 형태로 배열 만들기\n",
        "print( \"------------------------------------------ ones()\" )\n",
        "data10_3 = np.ones((4, 2))\n",
        "print( data10_3 )\n",
        "print( data10_3.shape )\n",
        "print( data10_3.dtype )"
      ],
      "metadata": {
        "id": "hRr4JkqIl-Gm",
        "outputId": "124f2ed1-e4c9-4380-e6d5-be29d1ebb923",
        "colab": {
          "base_uri": "https://localhost:8080/"
        }
      },
      "execution_count": 2,
      "outputs": [
        {
          "output_type": "stream",
          "name": "stdout",
          "text": [
            "[[1 2 3]\n",
            " [4 5 6]\n",
            " [7 8 9]]\n",
            "(3, 3)\n",
            "2\n",
            "data10[0, 0] =>  1\n",
            "data10[1, 1] =>  5\n",
            "data10[2, 2] =>  9\n",
            "------------------------------------------ arange()\n",
            "[[ 1  2  3  4]\n",
            " [ 5  6  7  8]\n",
            " [ 9 10 11 12]\n",
            " [13 14 15 16]]\n",
            "(4, 4)\n",
            "2\n",
            "[[ 1  2]\n",
            " [ 3  4]\n",
            " [ 5  6]\n",
            " [ 7  8]\n",
            " [ 9 10]\n",
            " [11 12]\n",
            " [13 14]\n",
            " [15 16]]\n",
            "------------------------------------------ zeros()\n",
            "[[0. 0. 0.]\n",
            " [0. 0. 0.]\n",
            " [0. 0. 0.]]\n",
            "(3, 3)\n",
            "float64\n",
            "------------------------------------------ ones()\n",
            "[[1. 1.]\n",
            " [1. 1.]\n",
            " [1. 1.]\n",
            " [1. 1.]]\n",
            "(4, 2)\n",
            "float64\n"
          ]
        }
      ]
    },
    {
      "cell_type": "code",
      "source": [
        "# ● 예제11\n",
        "# 3차원 배열의 형태\n",
        "\n",
        "# 3차원 배열 생성\n",
        "data11 = np.array(\n",
        "    [\n",
        "        [\n",
        "            [1, 2],\n",
        "            [3, 4]\n",
        "        ],\n",
        "        [\n",
        "            [1, 2],\n",
        "            [3, 4]\n",
        "        ],\n",
        "        [\n",
        "            [1, 2],\n",
        "            [3, 4]\n",
        "        ]\n",
        "    ]\n",
        ")\n",
        "print( data11 )\n",
        "print( data11.shape ) # (3, 2, 2)\n",
        "\n",
        "# 3차원 배열 생성 - arange()\n",
        "print( \"------------------------------------------ arange()\" )\n",
        "data11_1 = np.arange(1, 28).reshape(3, 3, 3)\n",
        "print( data11_1 )\n",
        "print( data11_1.shape ) # (3, 3, 3)\n",
        "print( data11_1.ndim ) # 3"
      ],
      "metadata": {
        "id": "6jQmVS0AmAS9",
        "outputId": "ed4c3f5f-9f91-4316-ec4b-0806389232f8",
        "colab": {
          "base_uri": "https://localhost:8080/"
        }
      },
      "execution_count": 3,
      "outputs": [
        {
          "output_type": "stream",
          "name": "stdout",
          "text": [
            "[[[1 2]\n",
            "  [3 4]]\n",
            "\n",
            " [[1 2]\n",
            "  [3 4]]\n",
            "\n",
            " [[1 2]\n",
            "  [3 4]]]\n",
            "(3, 2, 2)\n",
            "------------------------------------------ arange()\n",
            "[[[ 1  2  3]\n",
            "  [ 4  5  6]\n",
            "  [ 7  8  9]]\n",
            "\n",
            " [[10 11 12]\n",
            "  [13 14 15]\n",
            "  [16 17 18]]\n",
            "\n",
            " [[19 20 21]\n",
            "  [22 23 24]\n",
            "  [25 26 27]]]\n",
            "(3, 3, 3)\n",
            "3\n"
          ]
        }
      ]
    },
    {
      "cell_type": "code",
      "source": [
        "# ● 예제12\n",
        "import numpy as np\n",
        "\n",
        "# full() : 사용자 값으로 배열 만들기\n",
        "data12 = np.full( (3, 3), 3.14 )\n",
        "print( data12 )\n",
        "print( data12.shape ) # (3, 3)\n",
        "print( data12.dtype ) # float64\n",
        "print()\n",
        "\n",
        "# eye() : 단위행렬(주대각선의 요소가 모두 1이고, 나머지는 모두 0인 행렬)\n",
        "data12_eye = np.eye(3)\n",
        "print( data12_eye )\n",
        "print()\n",
        "\n",
        "# tri() : 삼각행렬(삼각형 모양의 배열)\n",
        "data12_tri = np.tri(3)\n",
        "print( data12_tri )\n",
        "print()\n",
        "\n",
        "# empty() : 초기화되지 않은 배열 생성(기존 메모리 위치에 존재하는 어떤 값이 올 수 있음)\n",
        "data12_empty = np.empty(5)\n",
        "print( data12_empty )\n",
        "print()\n",
        "\n",
        "temp = np.empty( (3, 2), dtype=float )\n",
        "print( temp )"
      ],
      "metadata": {
        "id": "ltpPx3IAmCHO",
        "outputId": "bf10bfd3-27a6-4b7d-d1e4-5d19056dc569",
        "colab": {
          "base_uri": "https://localhost:8080/"
        }
      },
      "execution_count": 4,
      "outputs": [
        {
          "output_type": "stream",
          "name": "stdout",
          "text": [
            "[[3.14 3.14 3.14]\n",
            " [3.14 3.14 3.14]\n",
            " [3.14 3.14 3.14]]\n",
            "(3, 3)\n",
            "float64\n",
            "\n",
            "[[1. 0. 0.]\n",
            " [0. 1. 0.]\n",
            " [0. 0. 1.]]\n",
            "\n",
            "[[1. 0. 0.]\n",
            " [1. 1. 0.]\n",
            " [1. 1. 1.]]\n",
            "\n",
            "[1. 1. 1. 1. 1.]\n",
            "\n",
            "[[1. 1.]\n",
            " [1. 1.]\n",
            " [1. 1.]]\n"
          ]
        }
      ]
    },
    {
      "cell_type": "code",
      "source": [
        "# ● 예제13\n",
        "# ~와 비슷한 배열\n",
        "import numpy as np\n",
        "\n",
        "data13 = np.arange(1, 13).reshape(2, 6)\n",
        "print( data13 )\n",
        "print()\n",
        "\n",
        "# np.zeros_like()\n",
        "# np.ones_like()\n",
        "# np.full_like()\n",
        "# np.empty_like()\n",
        "\n",
        "data13_like_zeros = np.zeros_like( data13 )\n",
        "print( data13_like_zeros )\n",
        "print()\n",
        "\n",
        "data13_like_ones = np.ones_like( data13 )\n",
        "print( data13_like_ones )\n",
        "\n",
        "\n",
        "# 넘파이로 다양한 배열 형태 만들기 (복습 + New)\n",
        "import numpy as np\n",
        "\n",
        "# ● 1차원 배열 만들기 --> zeros(), ones(), full()\n",
        "data_zeros = np.zeros( 10, dtype=int )\n",
        "data_ones = np.ones( 10, dtype=int )\n",
        "data_full = np.full( (4,), 1, dtype=float )\n",
        "\n",
        "\n",
        "# ● 2차원 배열 만들기\n",
        "# full()\n",
        "data2 = np.full( (3, 3), 1 )\n",
        "print( data2 )\n",
        "\n",
        "# zeros()\n",
        "data2_z = np.zeros( (3, 4), dtype=int )\n",
        "print( data2_z )\n",
        "print()\n",
        "\n",
        "# ones()\n",
        "data2_o = np.ones( (4, 4), dtype=int )\n",
        "print( data2_o )\n",
        "\n",
        "\n",
        "# ● 3차원 배열 만들기\n",
        "# full()\n",
        "data3 = np.full( (3, 3, 3), 10 )\n",
        "print( data3 )\n",
        "\n",
        "print( \"------------------------------------------------- 1\" )\n",
        "data3 = np.arange(2 * 3 * 4).reshape((2, 3, 4))\n",
        "print( data3 )\n",
        "print( data3[-1, -1, -1] )\n",
        "\n",
        "print( \"------------------------------------------------- 2\" )\n",
        "data3_2 = np.arange(1, 2 * 3 * 4 + 1).reshape((2, 3, 4))\n",
        "print( data3_2 )\n",
        "\n",
        "print( \"------------------------------------------------- 3\" )\n",
        "data3_3 = np.arange(1, (2 * 3 * 4) * 2, 2).reshape((2, 3, 4))\n",
        "print( data3_3 )"
      ],
      "metadata": {
        "id": "Vy1EZoYEmD2V",
        "outputId": "e17bd5a6-bf71-4a5f-b62a-1931ab75a357",
        "colab": {
          "base_uri": "https://localhost:8080/"
        }
      },
      "execution_count": 5,
      "outputs": [
        {
          "output_type": "stream",
          "name": "stdout",
          "text": [
            "[[ 1  2  3  4  5  6]\n",
            " [ 7  8  9 10 11 12]]\n",
            "\n",
            "[[0 0 0 0 0 0]\n",
            " [0 0 0 0 0 0]]\n",
            "\n",
            "[[1 1 1 1 1 1]\n",
            " [1 1 1 1 1 1]]\n",
            "[[1 1 1]\n",
            " [1 1 1]\n",
            " [1 1 1]]\n",
            "[[0 0 0 0]\n",
            " [0 0 0 0]\n",
            " [0 0 0 0]]\n",
            "\n",
            "[[1 1 1 1]\n",
            " [1 1 1 1]\n",
            " [1 1 1 1]\n",
            " [1 1 1 1]]\n",
            "[[[10 10 10]\n",
            "  [10 10 10]\n",
            "  [10 10 10]]\n",
            "\n",
            " [[10 10 10]\n",
            "  [10 10 10]\n",
            "  [10 10 10]]\n",
            "\n",
            " [[10 10 10]\n",
            "  [10 10 10]\n",
            "  [10 10 10]]]\n",
            "------------------------------------------------- 1\n",
            "[[[ 0  1  2  3]\n",
            "  [ 4  5  6  7]\n",
            "  [ 8  9 10 11]]\n",
            "\n",
            " [[12 13 14 15]\n",
            "  [16 17 18 19]\n",
            "  [20 21 22 23]]]\n",
            "23\n",
            "------------------------------------------------- 2\n",
            "[[[ 1  2  3  4]\n",
            "  [ 5  6  7  8]\n",
            "  [ 9 10 11 12]]\n",
            "\n",
            " [[13 14 15 16]\n",
            "  [17 18 19 20]\n",
            "  [21 22 23 24]]]\n",
            "------------------------------------------------- 3\n",
            "[[[ 1  3  5  7]\n",
            "  [ 9 11 13 15]\n",
            "  [17 19 21 23]]\n",
            "\n",
            " [[25 27 29 31]\n",
            "  [33 35 37 39]\n",
            "  [41 43 45 47]]]\n"
          ]
        }
      ]
    },
    {
      "cell_type": "code",
      "source": [
        "# ● 예제14\n",
        "import numpy as np\n",
        "\n",
        "# random()\n",
        "data14 = np.random.random( (2, 4) )\n",
        "print( data14 )\n",
        "print( data14.dtype ) # float64\n",
        "print()\n",
        "\n",
        "# randint()\n",
        "data14_randint = np.random.randint( 1, 10, (4, 4) )\n",
        "print( data14_randint )\n",
        "print()\n",
        "\n",
        "print( np.random.randint(2, size=5) )\n",
        "print( np.random.randint(2, 9, size=5) )\n",
        "print( np.random.randint(1, 10, size=(2, 3)) )"
      ],
      "metadata": {
        "id": "pb552aEdmFle",
        "outputId": "f27668a1-9212-4b13-9faa-8620d62b7616",
        "colab": {
          "base_uri": "https://localhost:8080/"
        }
      },
      "execution_count": 6,
      "outputs": [
        {
          "output_type": "stream",
          "name": "stdout",
          "text": [
            "[[0.88139754 0.35893869 0.32276133 0.95798958]\n",
            " [0.71288707 0.54954102 0.56256389 0.84256786]]\n",
            "float64\n",
            "\n",
            "[[6 3 9 6]\n",
            " [8 5 7 6]\n",
            " [5 7 1 6]\n",
            " [9 4 1 1]]\n",
            "\n",
            "[0 0 0 0 1]\n",
            "[6 2 3 7 8]\n",
            "[[2 1 1]\n",
            " [9 9 4]]\n"
          ]
        }
      ]
    },
    {
      "cell_type": "code",
      "source": [
        "# ● 예제15\n",
        "# shape, ndim, dtype, size, itemsize, nbytes, strides\n",
        "# stride: 배열의 각 차원에서 다음 요소로 이동하기 위한 메모리 상의 바이트 수\n",
        "import numpy as np\n",
        "\n",
        "# 1차원 배열에서 strides 값 체크\n",
        "data1 = np.arange( 7 )\n",
        "print( data1 )\n",
        "print( data1.dtype )\n",
        "print( data1.itemsize )\n",
        "print( data1.nbytes )\n",
        "print( data1.strides )\n",
        "\n",
        "data2 = np.arange(7, dtype='int32')\n",
        "print( data2 )\n",
        "print( data2.dtype )\n",
        "print( data2.itemsize )\n",
        "print( data2.nbytes )\n",
        "print( data2.strides )\n",
        "\n",
        "# 2차원 배열에서 strides 값 체크\n",
        "data3 = np.arange( 1, 10 ).reshape( 3, 3 )\n",
        "print( data3 )\n",
        "print( data3.dtype )\n",
        "print( data3.itemsize )\n",
        "print( data3.nbytes )\n",
        "print( data3.strides )\n",
        "\n",
        "# 3차원 배열에서 strides 값 체크\n",
        "data4 = np.arange( 24 ).reshape( 3, 2, 4 )\n",
        "print( data4 )\n",
        "print( data4.dtype )\n",
        "print( data4.itemsize )\n",
        "print( data4.nbytes )\n",
        "print( data4.strides )"
      ],
      "metadata": {
        "id": "7Uz8XcdwmLmP",
        "outputId": "0c202ded-d216-4651-e237-4ec9708d422c",
        "colab": {
          "base_uri": "https://localhost:8080/"
        }
      },
      "execution_count": 7,
      "outputs": [
        {
          "output_type": "stream",
          "name": "stdout",
          "text": [
            "[0 1 2 3 4 5 6]\n",
            "int64\n",
            "8\n",
            "56\n",
            "(8,)\n",
            "[0 1 2 3 4 5 6]\n",
            "int32\n",
            "4\n",
            "28\n",
            "(4,)\n",
            "[[1 2 3]\n",
            " [4 5 6]\n",
            " [7 8 9]]\n",
            "int64\n",
            "8\n",
            "72\n",
            "(24, 8)\n",
            "[[[ 0  1  2  3]\n",
            "  [ 4  5  6  7]]\n",
            "\n",
            " [[ 8  9 10 11]\n",
            "  [12 13 14 15]]\n",
            "\n",
            " [[16 17 18 19]\n",
            "  [20 21 22 23]]]\n",
            "int64\n",
            "8\n",
            "192\n",
            "(64, 32, 8)\n"
          ]
        }
      ]
    }
  ]
}